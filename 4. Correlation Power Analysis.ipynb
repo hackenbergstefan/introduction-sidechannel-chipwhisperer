{
 "cells": [
  {
   "cell_type": "code",
   "execution_count": null,
   "metadata": {
    "slideshow": {
     "slide_type": "skip"
    }
   },
   "outputs": [],
   "source": [
    "import warnings\n",
    "warnings.filterwarnings(\"ignore\")"
   ]
  },
  {
   "cell_type": "markdown",
   "metadata": {
    "slideshow": {
     "slide_type": "slide"
    }
   },
   "source": [
    "# Correlation Power Analysis"
   ]
  },
  {
   "cell_type": "markdown",
   "metadata": {
    "slideshow": {
     "slide_type": "slide"
    }
   },
   "source": [
    "## A better version of password check\n",
    "\n",
    "```c\n",
    "uint8_t check_password(uint8_t cmd, uint8_t scmd, uint8_t input_length, uint8_t *input)\n",
    "{\n",
    "    trigger_high();\n",
    "\n",
    "    uint8_t password_wrong = 0;\n",
    "    for (unsigned int i = 0; i < sizeof(stored_password) - 1; i++)\n",
    "    {\n",
    "        uint8_t stored = stored_password[i];\n",
    "        uint8_t attempt = input[i];\n",
    "        password_wrong = stored ^ attempt;\n",
    "    }\n",
    "\n",
    "    trigger_low();\n",
    "\n",
    "    simpleserial_put(0x01, 1, &password_wrong);\n",
    "    return 0;\n",
    "}\n",
    "```"
   ]
  },
  {
   "cell_type": "markdown",
   "metadata": {
    "slideshow": {
     "slide_type": "fragment"
    }
   },
   "source": [
    "### Improvements\n",
    "\n",
    "😎 No timing dependency.\n",
    "\n",
    "😎 No data dependent code flow."
   ]
  },
  {
   "cell_type": "markdown",
   "metadata": {
    "slideshow": {
     "slide_type": "slide"
    }
   },
   "source": [
    "## Try again: Recording different attempts"
   ]
  },
  {
   "cell_type": "code",
   "execution_count": null,
   "metadata": {
    "slideshow": {
     "slide_type": "-"
    }
   },
   "outputs": [],
   "source": [
    "import securec\n",
    "import securec.util\n",
    "scope, target = securec.util.init()\n",
    "scope.default_setup()"
   ]
  },
  {
   "cell_type": "code",
   "execution_count": null,
   "metadata": {
    "slideshow": {
     "slide_type": "-"
    }
   },
   "outputs": [],
   "source": [
    "securec.util.compile_and_flash('./example_3.c')"
   ]
  },
  {
   "cell_type": "code",
   "execution_count": null,
   "metadata": {
    "slideshow": {
     "slide_type": "skip"
    }
   },
   "outputs": [],
   "source": [
    "scope.default_setup()\n",
    "securec.util.reset_target()\n",
    "def capture(attempt, samples=500):\n",
    "    scope.adc.samples = samples\n",
    "    scope.arm()\n",
    "    if isinstance(attempt, int):\n",
    "        attempt = bytes([attempt])\n",
    "    elif isinstance(attempt, list):\n",
    "        attempt = bytes(attempt)\n",
    "    elif isinstance(attempt, str):\n",
    "        attempt = attempt.encode()\n",
    "    target.simpleserial_write(0x01, attempt + (8 - len(attempt)) * b'\\x00')\n",
    "    trace = securec.util.capture()\n",
    "    return trace, not bool(target.simpleserial_read(0x01)[0])"
   ]
  },
  {
   "cell_type": "code",
   "execution_count": null,
   "metadata": {
    "slideshow": {
     "slide_type": "skip"
    }
   },
   "outputs": [],
   "source": [
    "import math\n",
    "import numpy as np\n",
    "import pandas as pd\n",
    "from bokeh.plotting import figure, show \n",
    "from bokeh.io import output_notebook\n",
    "from bokeh.models import CrosshairTool, Label, LinearColorMapper, Span\n",
    "from bokeh.palettes import Category10_10\n",
    "\n",
    "output_notebook()"
   ]
  },
  {
   "cell_type": "code",
   "execution_count": null,
   "metadata": {
    "slideshow": {
     "slide_type": "skip"
    }
   },
   "outputs": [],
   "source": [
    "def plot_attempts(\n",
    "    attempts,\n",
    "    shift_y=True,\n",
    "    max_x=None,\n",
    "):\n",
    "    data = []\n",
    "    for attempt in attempts:\n",
    "        data.append(capture(attempt))\n",
    "    p = figure(height=300, sizing_mode='stretch_width')\n",
    "    p.add_tools(CrosshairTool())\n",
    "    for idx, (attempt, (trace, result)) in enumerate(zip(attempts, data)):\n",
    "        if max_x:\n",
    "            trace = trace[:max_x]\n",
    "        p.line(\n",
    "            range(0, len(trace)), \n",
    "            trace - (idx * 0.6 if shift_y else 0), \n",
    "            line_color=Category10_10[idx], \n",
    "            legend_label=f'{attempt} -> {result}'\n",
    "        )\n",
    "    show(p)"
   ]
  },
  {
   "cell_type": "code",
   "execution_count": null,
   "metadata": {
    "slideshow": {
     "slide_type": "fragment"
    }
   },
   "outputs": [],
   "source": [
    "scope.default_setup()\n",
    "securec.util.reset_target()\n",
    "plot_attempts(['hello', 'world', 'ifx'])"
   ]
  },
  {
   "cell_type": "markdown",
   "metadata": {
    "slideshow": {
     "slide_type": "slide"
    }
   },
   "source": [
    "## Concentrate on small differences"
   ]
  },
  {
   "cell_type": "code",
   "execution_count": null,
   "metadata": {
    "slideshow": {
     "slide_type": "fragment"
    }
   },
   "outputs": [],
   "source": [
    "plot_attempts(['hello', 'world', 'ifx'], shift_y=False, max_x=100)"
   ]
  },
  {
   "cell_type": "markdown",
   "metadata": {
    "slideshow": {
     "slide_type": "slide"
    }
   },
   "source": [
    "### Where do these differences come from?"
   ]
  },
  {
   "cell_type": "markdown",
   "metadata": {
    "slideshow": {
     "slide_type": "fragment"
    }
   },
   "source": [
    "Main principle of power analysis:\n",
    "\n",
    "> The power consumption of a device depends on the data it processes.\n",
    "\n",
    "More precise:\n",
    "\n",
    "> The power consumption of a device is proportional to the hamming weight of the data it processes."
   ]
  },
  {
   "cell_type": "markdown",
   "metadata": {
    "slideshow": {
     "slide_type": "slide"
    }
   },
   "source": [
    "## \"Viewing\" hamming weights"
   ]
  },
  {
   "cell_type": "code",
   "execution_count": null,
   "metadata": {
    "slideshow": {
     "slide_type": "fragment"
    }
   },
   "outputs": [],
   "source": [
    "plot_attempts([b'\\x00', b'\\xff'], shift_y=False, max_x=80)"
   ]
  },
  {
   "cell_type": "markdown",
   "metadata": {
    "slideshow": {
     "slide_type": "slide"
    }
   },
   "source": [
    "### Link differences with code"
   ]
  },
  {
   "cell_type": "markdown",
   "metadata": {
    "slideshow": {
     "slide_type": "fragment"
    }
   },
   "source": [
    "#### Assembly of `check_password()`\n",
    "\n",
    "```asm\n",
    "uint8_t check_password(uint8_t cmd, uint8_t scmd, uint8_t input_length, uint8_t *input)\n",
    "{\n",
    " 21a:\tcf 93       \tpush\tr28\n",
    " 21c:\tdf 93       \tpush\tr29\n",
    " 21e:\t1f 92       \tpush\tr1\n",
    " 220:\tcd b7       \tin\tr28, 0x3d\t; 61\n",
    " 222:\tde b7       \tin\tr29, 0x3e\t; 62\n",
    "    trigger_high();\n",
    " 224:\t81 e0       \tldi\tr24, 0x01\t; 1\n",
    " 226:\t80 93 05 06 \tsts\t0x0605, r24\t; 0x800605 <__TEXT_REGION_LENGTH__+0x7de605>\n",
    " 22a:\ta0 e0       \tldi\tr26, 0x00\t; 0\n",
    " 22c:\tb0 e2       \tldi\tr27, 0x20\t; 32\n",
    " 22e:\tf9 01       \tmovw\tr30, r18\n",
    " 230:\t80 e0       \tldi\tr24, 0x00\t; 0\n",
    "\n",
    "    uint8_t password_wrong = 0;\n",
    "    for (unsigned int i = 0; i < sizeof(stored_password) - 1; i++)\n",
    "    {\n",
    "        uint8_t stored = stored_password[i];\n",
    " 232:\t2d 91       \tld\tr18, X+\n",
    "        uint8_t attempt = input[i];\n",
    " 234:\t91 91       \tld\tr25, Z+\n",
    "        password_wrong |= stored ^ attempt;\n",
    " 236:\t92 27       \teor\tr25, r18\n",
    " 238:\t89 2b       \tor\tr24, r25\n",
    " 23a:\t90 e2       \tldi\tr25, 0x20\t; 32\n",
    " 23c:\ta8 30       \tcpi\tr26, 0x08\t; 8\n",
    " 23e:\tb9 07       \tcpc\tr27, r25\n",
    " 240:\tc1 f7       \tbrne\t.-16     \t; 0x232 <check_password+0x18>\n",
    " 242:\t89 83       \tstd\tY+1, r24\t; 0x01\n",
    "```"
   ]
  },
  {
   "cell_type": "markdown",
   "metadata": {
    "slideshow": {
     "slide_type": "slide"
    }
   },
   "source": [
    "### View hamming weight of input"
   ]
  },
  {
   "cell_type": "code",
   "execution_count": null,
   "metadata": {
    "slideshow": {
     "slide_type": "skip"
    }
   },
   "outputs": [],
   "source": [
    "def plot_attempts_with_code(\n",
    "    attempts,\n",
    "    x_range=(20, 60),\n",
    "):\n",
    "    data = []\n",
    "    for attempt in attempts:\n",
    "        data.append(capture(attempt))\n",
    "    p = figure(height=300, sizing_mode='stretch_width', x_range=x_range)\n",
    "    p.add_tools(CrosshairTool())\n",
    "    for idx, (attempt, (trace, _)) in enumerate(zip(attempts, data)):\n",
    "        p.line(\n",
    "            range(0, len(trace)), \n",
    "            trace, \n",
    "            line_color=Category10_10[idx], \n",
    "            legend_label=f'{attempt}'\n",
    "        )\n",
    "\n",
    "    for x, label in zip(\n",
    "        range(28, 80, 4), \n",
    "        ('ld r18, X+', '', 'ld r25, Z+', '', 'eor r25, r18', 'or r24, r25')\n",
    "    ):\n",
    "        if not label:\n",
    "            continue\n",
    "        p.add_layout(Span(location=x, dimension='height', line_color='darkslateblue', line_width=30, line_alpha=0.1))\n",
    "        p.add_layout(Label(x=x, y=p.plot_height, text=label, y_units='screen', x_offset=-15, y_offset=-35,\n",
    "                        text_align='right', text_color='darkslateblue', angle=math.pi/2))\n",
    "        for idx, (trace, _) in enumerate(data):\n",
    "            p.circle(x, trace[x], size=10, color=Category10_10[idx])\n",
    "\n",
    "    show(p)"
   ]
  },
  {
   "cell_type": "code",
   "execution_count": null,
   "metadata": {
    "slideshow": {
     "slide_type": "fragment"
    }
   },
   "outputs": [],
   "source": [
    "plot_attempts_with_code([b'\\x00', b'\\x0F', b'\\xff'])"
   ]
  },
  {
   "cell_type": "markdown",
   "metadata": {
    "slideshow": {
     "slide_type": "slide"
    }
   },
   "source": [
    "## Make proportionality measurable: Pearson Correlation Coefficient\n",
    "\n",
    "For two random variables $X, Y$ the *Pearson correlation coefficient (PCC)* is defined as\n",
    "\n",
    "$$\\rho_{X,Y} := \\frac{\\mathrm{Cov}(X, Y)}{\\sqrt{\\mathrm{Var}(X)} \\sqrt{\\mathrm{Var}(Y)}} \\ \\in [-1, 1]\\,.$$\n",
    "\n",
    "For two samples of finite length $x = {x_1, ..., x_n}$, $y = {y_1, ..., y_n}$ it can be defined as \n",
    "\n",
    "$$r_{x,y} := \\frac{\\sum_{i=1}^n (x_i - \\bar x)(y_i - \\bar y)}{\\sqrt{\\sum_{i=1}^n (x_i - \\bar x)^2}\\sqrt{\\sum_{i=1}^n (y_i - \\bar y)^2}} \\ \\in [-1, 1]\\,,$$\n",
    "\n",
    "where $\\bar x := \\frac{1}{n} \\sum_{i=1}^n x_i$ is the mean of a sample $x$."
   ]
  },
  {
   "cell_type": "code",
   "execution_count": null,
   "metadata": {
    "slideshow": {
     "slide_type": "fragment"
    }
   },
   "outputs": [],
   "source": [
    "import numpy as np\n",
    "\n",
    "def pearson(x, y):\n",
    "    x_mean = np.mean(x)\n",
    "    y_mean = np.mean(y)\n",
    "    return sum((x - x_mean) * (y - y_mean)) / np.sqrt(sum((x - x_mean) ** 2) * sum((y - y_mean) ** 2))"
   ]
  },
  {
   "cell_type": "code",
   "execution_count": null,
   "metadata": {
    "slideshow": {
     "slide_type": "skip"
    }
   },
   "outputs": [],
   "source": [
    "HW = [bin(n).count(\"1\") for n in range(0, 256)]\n",
    "\n",
    "def hw(n):\n",
    "    if isinstance(n, str):\n",
    "        return HW[ord(n)]\n",
    "    return HW[n]\n",
    "\n",
    "hw_vec = np.vectorize(hw)"
   ]
  },
  {
   "cell_type": "markdown",
   "metadata": {
    "slideshow": {
     "slide_type": "slide"
    }
   },
   "source": [
    "### Plot correlation against input"
   ]
  },
  {
   "cell_type": "code",
   "execution_count": null,
   "metadata": {
    "slideshow": {
     "slide_type": "skip"
    }
   },
   "outputs": [],
   "source": [
    "def plot_attempts_with_code_and_pearson(\n",
    "    attempts,\n",
    "    x_range=(20, 60),\n",
    "):\n",
    "    traces = []\n",
    "    for attempt in attempts:\n",
    "        traces.append(capture(attempt)[0])\n",
    "    traces = np.array(traces)\n",
    "    p = figure(height=600, sizing_mode='stretch_width', x_range=x_range)\n",
    "    p.add_tools(CrosshairTool())\n",
    "    for idx, (attempt, trace) in enumerate(zip(attempts, traces)):\n",
    "        p.line(\n",
    "            range(0, len(trace)), \n",
    "            trace, \n",
    "            line_color=Category10_10[idx % 10], \n",
    "            legend_label=f'{attempt}'\n",
    "        )\n",
    "\n",
    "    for x, label in zip(\n",
    "        range(28, 80, 4), \n",
    "        ('ld r18, X+', '', 'ld r25, Z+', '', 'eor r25, r18', 'or r24, r25')\n",
    "    ):\n",
    "        if not label:\n",
    "            continue\n",
    "        p.add_layout(Span(location=x, dimension='height', line_color='darkslateblue', line_width=30, line_alpha=0.1))\n",
    "        p.add_layout(Label(x=x, y=p.plot_height, text=label, y_units='screen', x_offset=-15, y_offset=-35,\n",
    "                        text_align='right', text_color='darkslateblue', angle=math.pi/2))\n",
    "        p.add_layout(Label(x=x, y=50, text=f'pcc(hw(attempt), trace[:, {x}]): {pearson([hw(a[0]) for a in attempts], traces[:, x]):.2f}', y_units='screen', x_offset=-15, y_offset=-35,\n",
    "                        text_align='left', text_color='darkslateblue', angle=math.pi/2))\n",
    "        for idx, trace in enumerate(traces):\n",
    "            p.circle(x, trace[x], size=10, color=Category10_10[idx % 10])\n",
    "\n",
    "    show(p)\n"
   ]
  },
  {
   "cell_type": "code",
   "execution_count": null,
   "metadata": {
    "slideshow": {
     "slide_type": "skip"
    }
   },
   "outputs": [],
   "source": [
    "def pearson_pointwise(traces, intermediates):\n",
    "    intermediates_diff = intermediates - np.mean(intermediates)\n",
    "    intermediates_sqrt = np.sqrt(np.sum(intermediates_diff ** 2))\n",
    "    traces_diff = traces - np.mean(traces, axis=0)\n",
    "    \n",
    "    return np.sum(traces_diff * intermediates_diff[:, None], axis=0) / (\n",
    "        np.sqrt(np.sum(traces_diff ** 2, axis=0)) * intermediates_sqrt\n",
    "    )"
   ]
  },
  {
   "cell_type": "code",
   "execution_count": null,
   "metadata": {
    "slideshow": {
     "slide_type": "skip"
    }
   },
   "outputs": [],
   "source": [
    "import random\n",
    "import tqdm\n",
    "import tqdm.notebook\n",
    "\n",
    "def capture_random(trace_samples=500, trace_nums=100):\n",
    "    traces = []\n",
    "    attempts = []\n",
    "    for _ in tqdm.notebook.tqdm(range(trace_nums)):\n",
    "        attempt = bytes([random.randint(0, 255) for _ in range(10)])\n",
    "        traces.append(capture(attempt, samples=trace_samples)[0])\n",
    "        attempts.append(attempt)\n",
    "    traces = np.array(traces)\n",
    "    attempts = np.array([list(a) for a in attempts])\n",
    "    return traces, attempts"
   ]
  },
  {
   "cell_type": "code",
   "execution_count": null,
   "metadata": {
    "slideshow": {
     "slide_type": "skip"
    }
   },
   "outputs": [],
   "source": [
    "def plot_pearson(traces, attempts, index=0):\n",
    "    pearsons = abs(pearson_pointwise(traces, hw_vec([a[0] for a in attempts])))\n",
    "    p = figure(height=300, sizing_mode='stretch_width')\n",
    "    p.title = \"PCC(hw(attempts), traces[:, i])\"\n",
    "    p.add_tools(CrosshairTool())\n",
    "    p.line(range(0, len(pearsons)), pearsons)\n",
    "    show(p)"
   ]
  },
  {
   "cell_type": "code",
   "execution_count": null,
   "metadata": {
    "slideshow": {
     "slide_type": "fragment"
    }
   },
   "outputs": [],
   "source": [
    "plot_attempts_with_code_and_pearson([b'\\x00', b'\\x01', b'\\x03', b'\\x07', b'\\x0F', b'\\x1F', b'\\x3F', b'\\x7F', b'\\xFF'])"
   ]
  },
  {
   "cell_type": "markdown",
   "metadata": {
    "slideshow": {
     "slide_type": "slide"
    }
   },
   "source": [
    "What happens exactly?"
   ]
  },
  {
   "cell_type": "markdown",
   "metadata": {
    "slideshow": {
     "slide_type": "fragment"
    }
   },
   "source": [
    "1. Define inputs and capture traces"
   ]
  },
  {
   "cell_type": "code",
   "execution_count": null,
   "metadata": {
    "slideshow": {
     "slide_type": "-"
    }
   },
   "outputs": [],
   "source": [
    "attempts = [bytes([i]) for i in range(0, 256, 5)]\n",
    "traces = np.array([capture(attempt)[0] for attempt in attempts])\n",
    "print('attempts: ', attempts)\n",
    "print('traces: ', traces)"
   ]
  },
  {
   "cell_type": "markdown",
   "metadata": {
    "slideshow": {
     "slide_type": "fragment"
    }
   },
   "source": [
    "2. Calculate hamming weights of attempts"
   ]
  },
  {
   "cell_type": "code",
   "execution_count": null,
   "metadata": {
    "slideshow": {
     "slide_type": "-"
    }
   },
   "outputs": [],
   "source": [
    "attempts_hws = [hw(attempt[0]) for attempt in attempts]\n",
    "print('hamming weights of attempts:', attempts_hws)"
   ]
  },
  {
   "cell_type": "markdown",
   "metadata": {
    "slideshow": {
     "slide_type": "fragment"
    }
   },
   "source": [
    "3. Calculate PCC of hamming weights and traces at specific point"
   ]
  },
  {
   "cell_type": "code",
   "execution_count": null,
   "metadata": {
    "slideshow": {
     "slide_type": "-"
    }
   },
   "outputs": [],
   "source": [
    "pearson(attempts_hws, traces[:, 0])"
   ]
  },
  {
   "cell_type": "markdown",
   "metadata": {
    "slideshow": {
     "slide_type": "slide"
    }
   },
   "source": [
    "Calculate PCC for *every* trace point"
   ]
  },
  {
   "cell_type": "code",
   "execution_count": null,
   "metadata": {
    "slideshow": {
     "slide_type": "fragment"
    }
   },
   "outputs": [],
   "source": [
    "plot_pearson(*capture_random())"
   ]
  },
  {
   "cell_type": "markdown",
   "metadata": {
    "slideshow": {
     "slide_type": "slide"
    }
   },
   "source": [
    "#### Conclusion\n",
    "\n",
    "- Pearson correlation coefficient reflects principle that the power consumption of a device is proportional to the hamming weight of the data it processes.\n",
    "- When calculating `pcc(hw(input), traces[:, i])` for all `i=0..samples` we can \"see\" where `input` is processed."
   ]
  }
 ],
 "metadata": {
  "celltoolbar": "Slideshow",
  "kernelspec": {
   "display_name": "Python 3 (ipykernel)",
   "language": "python",
   "name": "python3"
  },
  "language_info": {
   "codemirror_mode": {
    "name": "ipython",
    "version": 3
   },
   "file_extension": ".py",
   "mimetype": "text/x-python",
   "name": "python",
   "nbconvert_exporter": "python",
   "pygments_lexer": "ipython3",
   "version": "3.9.5"
  }
 },
 "nbformat": 4,
 "nbformat_minor": 2
}
