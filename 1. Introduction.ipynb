{
 "cells": [
  {
   "cell_type": "markdown",
   "metadata": {
    "slideshow": {
     "slide_type": "slide"
    }
   },
   "source": [
    "# Introduction to Side-channel-Analysis using ChipWhisperer\n",
    "\n",
    "[https://github.com/hackenbergstefan/introduction-sidechannel-chipwhisperer](https://github.com/hackenbergstefan/introduction-sidechannel-chipwhisperer)\n",
    "\n",
    "[https://hackenbergstefan.github.io/introduction-sidechannel-chipwhisperer/](https://hackenbergstefan.github.io/introduction-sidechannel-chipwhisperer/)"
   ]
  },
  {
   "cell_type": "markdown",
   "metadata": {
    "slideshow": {
     "slide_type": "fragment"
    }
   },
   "source": [
    "## Agenda\n",
    "\n",
    "0. Side-channel terms\n",
    "1. ChipWhisperer - Whats that?\n",
    "2. Timing analysis on password comparison\n",
    "3. Correlation Power Analysis\n",
    "4. Correlation Power Analysis on AES"
   ]
  },
  {
   "cell_type": "markdown",
   "metadata": {
    "slideshow": {
     "slide_type": "slide"
    }
   },
   "source": [
    "## Terms and definitions"
   ]
  },
  {
   "cell_type": "markdown",
   "metadata": {
    "slideshow": {
     "slide_type": "fragment"
    }
   },
   "source": [
    "#### Side-channel\n",
    "Channel for information which is not designated for information transfer.\n",
    "\n",
    "Here: Power trace."
   ]
  },
  {
   "cell_type": "markdown",
   "metadata": {
    "slideshow": {
     "slide_type": "fragment"
    }
   },
   "source": [
    "#### Timing analysis\n",
    "\n",
    "Analyze timing of execution."
   ]
  },
  {
   "cell_type": "markdown",
   "metadata": {
    "slideshow": {
     "slide_type": "fragment"
    }
   },
   "source": [
    "#### SPA (Simple Power Analysis)\n",
    "\n",
    "Visually interpretation of (few) power traces.\n",
    "\n",
    "Prominent example: Square and multiply at RSA."
   ]
  },
  {
   "cell_type": "markdown",
   "metadata": {
    "slideshow": {
     "slide_type": "fragment"
    }
   },
   "source": [
    "#### DPA (Differential Power Analysis)\n",
    "\n",
    "Use statistical methods to analyze (many) power traces.\n",
    "\n",
    "#### CPA (Correlation Power Analysis)\n",
    "\n",
    "(Modern) variant of DPA."
   ]
  },
  {
   "cell_type": "markdown",
   "metadata": {
    "slideshow": {
     "slide_type": "fragment"
    }
   },
   "source": [
    "#### Template attack\n",
    "\n",
    "2 step attack: 1. Create a \"profile\". 2. Apply the profile."
   ]
  }
 ],
 "metadata": {
  "celltoolbar": "Slideshow",
  "kernelspec": {
   "display_name": "Python 3 (ipykernel)",
   "language": "python",
   "name": "python3"
  },
  "language_info": {
   "codemirror_mode": {
    "name": "ipython",
    "version": 3
   },
   "file_extension": ".py",
   "mimetype": "text/x-python",
   "name": "python",
   "nbconvert_exporter": "python",
   "pygments_lexer": "ipython3",
   "version": "3.9.5"
  }
 },
 "nbformat": 4,
 "nbformat_minor": 2
}
