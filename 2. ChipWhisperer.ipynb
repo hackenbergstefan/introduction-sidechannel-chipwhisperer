{
 "cells": [
  {
   "cell_type": "markdown",
   "metadata": {
    "slideshow": {
     "slide_type": "slide"
    }
   },
   "source": [
    "# ChipWhisperer"
   ]
  },
  {
   "cell_type": "markdown",
   "metadata": {
    "slideshow": {
     "slide_type": "fragment"
    }
   },
   "source": [
    "> ChipWhisperer is a complete open source toolchain for learning about side channel attacks on embedded devices and validating the side channel resistance of these devices.\n",
    "\n",
    "-- https://chipwhisperer.readthedocs.io/en/latest/getting-started.html#what-is-chipwhisperer"
   ]
  },
  {
   "cell_type": "markdown",
   "metadata": {
    "cell_style": "split",
    "slideshow": {
     "slide_type": "subslide"
    }
   },
   "source": [
    "![](https://wiki.newae.com/images/5/54/Cwlite_basic.png)"
   ]
  },
  {
   "cell_type": "markdown",
   "metadata": {
    "cell_style": "split",
    "slideshow": {
     "slide_type": "fragment"
    }
   },
   "source": [
    "### ChipWhisperer-Lite XMEGA\n",
    "\n",
    "- Low-Noise Amplifier (LNA) with adjustable gain of up to +60 dB for analog power measurements.\n",
    "- 10-bit ADC up to 105 MS/s, with ultra flexible clocking mechanism allow synchronous power capture.\n",
    "- Generate clock glitches with sub-nS resolution on timing.\n",
    "- Built-in serial port for communications and programming STM32Fx targets.\n",
    "- Built in XMEGA and AVR programmers.\n",
    "- Open-source design allowing you to modify all aspects of board (FPGA, microcontroller, etc).\n",
    "- ATXMEGA128D4 8-bit RISC target for power analysis & fault injection integrated onto board.\n",
    "- Can separate target off board to use tool on additional targets.\n",
    "- ~250$"
   ]
  },
  {
   "cell_type": "markdown",
   "metadata": {
    "slideshow": {
     "slide_type": "slide"
    }
   },
   "source": [
    "\n",
    "### Components\n",
    "\n",
    "- Hardware\n",
    "  https://rtfm.newae.com/\n",
    "- Firmware\n",
    "  https://chipwhisperer.readthedocs.io/en/latest/\n",
    "- Software\n",
    "  https://chipwhisperer.readthedocs.io/en/latest/\n",
    "- Tutorials\n",
    "  https://github.com/newaetech/chipwhisperer-jupyter"
   ]
  },
  {
   "cell_type": "markdown",
   "metadata": {
    "slideshow": {
     "slide_type": "slide"
    }
   },
   "source": [
    "## Example"
   ]
  },
  {
   "cell_type": "markdown",
   "metadata": {
    "slideshow": {
     "slide_type": "fragment"
    }
   },
   "source": [
    "### Initialization"
   ]
  },
  {
   "cell_type": "code",
   "execution_count": null,
   "metadata": {
    "slideshow": {
     "slide_type": "fragment"
    }
   },
   "outputs": [],
   "source": [
    "import securec\n",
    "import securec.util\n",
    "scope, target = securec.util.init()"
   ]
  },
  {
   "cell_type": "code",
   "execution_count": null,
   "metadata": {
    "slideshow": {
     "slide_type": "fragment"
    }
   },
   "outputs": [],
   "source": [
    "scope"
   ]
  },
  {
   "cell_type": "markdown",
   "metadata": {
    "slideshow": {
     "slide_type": "slide"
    }
   },
   "source": [
    "### First code example"
   ]
  },
  {
   "cell_type": "markdown",
   "metadata": {
    "slideshow": {
     "slide_type": "fragment"
    }
   },
   "source": [
    "```c\n",
    "#include \"hal.h\"\n",
    "#include \"simpleserial.h\"\n",
    "#include <stdint.h>\n",
    "#include <string.h>\n",
    "\n",
    "uint8_t hello(uint8_t cmd, uint8_t scmd, uint8_t len, uint8_t *buf)\n",
    "{\n",
    "    simpleserial_put(0x01, 12, \"hello world.\");\n",
    "    return 0;\n",
    "}\n",
    "\n",
    "int main(void)\n",
    "{\n",
    "    platform_init();\n",
    "    init_uart();\n",
    "    trigger_setup();\n",
    "\n",
    "    simpleserial_init();\n",
    "    simpleserial_addcmd(0x01, 0, hello);\n",
    "    while (1)\n",
    "        simpleserial_get();\n",
    "}\n",
    "```"
   ]
  },
  {
   "cell_type": "code",
   "execution_count": null,
   "metadata": {
    "slideshow": {
     "slide_type": "slide"
    }
   },
   "outputs": [],
   "source": [
    "securec.util.compile_and_flash('./example_1.c')"
   ]
  },
  {
   "cell_type": "code",
   "execution_count": null,
   "metadata": {
    "slideshow": {
     "slide_type": "fragment"
    }
   },
   "outputs": [],
   "source": [
    "securec.util.reset_target()\n",
    "target.simpleserial_write(0x01, b'')\n",
    "bytes(target.simpleserial_read(0x01))"
   ]
  },
  {
   "cell_type": "markdown",
   "metadata": {
    "slideshow": {
     "slide_type": "slide"
    }
   },
   "source": [
    "### Capturing a trace"
   ]
  },
  {
   "cell_type": "markdown",
   "metadata": {
    "slideshow": {
     "slide_type": "fragment"
    }
   },
   "source": [
    "Add a trigger point:\n",
    "\n",
    "```c\n",
    "uint8_t hello(uint8_t cmd, uint8_t scmd, uint8_t len, uint8_t *buf)\n",
    "{\n",
    "    trigger_high();\n",
    "\n",
    "    simpleserial_put(0x01, 12, \"hello world.\");\n",
    "\n",
    "    trigger_low();\n",
    "    return 0;\n",
    "}\n",
    "```"
   ]
  },
  {
   "cell_type": "code",
   "execution_count": null,
   "metadata": {
    "slideshow": {
     "slide_type": "slide"
    }
   },
   "outputs": [],
   "source": [
    "scope.default_setup()\n",
    "scope.adc.samples = 1000\n",
    "scope.arm()\n",
    "target.simpleserial_write(0x01, b'')\n",
    "trace = securec.util.capture()"
   ]
  },
  {
   "cell_type": "code",
   "execution_count": null,
   "metadata": {
    "slideshow": {
     "slide_type": "fragment"
    }
   },
   "outputs": [],
   "source": [
    "trace"
   ]
  },
  {
   "cell_type": "markdown",
   "metadata": {
    "slideshow": {
     "slide_type": "slide"
    }
   },
   "source": [
    "### Plot the trace"
   ]
  },
  {
   "cell_type": "code",
   "execution_count": null,
   "metadata": {
    "slideshow": {
     "slide_type": "fragment"
    }
   },
   "outputs": [],
   "source": [
    "from bokeh.plotting import figure, show \n",
    "from bokeh.io import output_notebook\n",
    "from bokeh.models import CrosshairTool\n",
    "\n",
    "output_notebook()"
   ]
  },
  {
   "cell_type": "code",
   "execution_count": null,
   "metadata": {
    "slideshow": {
     "slide_type": "fragment"
    }
   },
   "outputs": [],
   "source": [
    "p = figure(height=300, sizing_mode='stretch_width')\n",
    "p.add_tools(CrosshairTool())\n",
    "p.line(range(0, len(trace)), trace)\n",
    "show(p)"
   ]
  }
 ],
 "metadata": {
  "celltoolbar": "Slideshow",
  "kernelspec": {
   "display_name": "Python 3 (ipykernel)",
   "language": "python",
   "name": "python3"
  },
  "language_info": {
   "codemirror_mode": {
    "name": "ipython",
    "version": 3
   },
   "file_extension": ".py",
   "mimetype": "text/x-python",
   "name": "python",
   "nbconvert_exporter": "python",
   "pygments_lexer": "ipython3",
   "version": "3.9.5"
  }
 },
 "nbformat": 4,
 "nbformat_minor": 2
}
